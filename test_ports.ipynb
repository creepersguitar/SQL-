{
  "nbformat": 4,
  "nbformat_minor": 0,
  "metadata": {
    "colab": {
      "name": "test ports",
      "provenance": [],
      "collapsed_sections": [],
      "include_colab_link": true
    },
    "kernelspec": {
      "name": "python3",
      "display_name": "Python 3"
    },
    "language_info": {
      "name": "python"
    }
  },
  "cells": [
    {
      "cell_type": "markdown",
      "metadata": {
        "id": "view-in-github",
        "colab_type": "text"
      },
      "source": [
        "<a href=\"https://colab.research.google.com/github/creepersguitar/SQL-/blob/main/test_ports.ipynb\" target=\"_parent\"><img src=\"https://colab.research.google.com/assets/colab-badge.svg\" alt=\"Open In Colab\"/></a>"
      ]
    },
    {
      "cell_type": "code",
      "execution_count": null,
      "metadata": {
        "colab": {
          "base_uri": "https://localhost:8080/"
        },
        "id": "UbhhByYsDzTu",
        "outputId": "d076114f-545c-4fa3-cb41-c23840a2568c"
      },
      "outputs": [
        {
          "output_type": "stream",
          "name": "stdout",
          "text": [
            "Port is open\n"
          ]
        }
      ],
      "source": [
        "import socket\n",
        "a_socket = socket.socket(socket.AF_INET, socket.SOCK_STREAM)\n",
        "\n",
        "#location = (\"10.0.0.8\", 3979)\n",
        "location = (\"www.google.com\", 80)\n",
        "result_of_check = a_socket.connect_ex(location)\n",
        "\n",
        "if result_of_check == 0:\n",
        "   print(\"Port is open\")\n",
        "else:\n",
        "   print(\"Port is not open\")\n"
      ]
    }
  ]
}